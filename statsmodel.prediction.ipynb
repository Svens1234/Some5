{
 "cells": [
  {
   "cell_type": "code",
   "execution_count": 15,
   "id": "d0e31264",
   "metadata": {},
   "outputs": [],
   "source": [
    "%matplotlib inline\n",
    "import numpy as np\n",
    "import matplotlib.pyplot as plt\n",
    "import statsmodels.api as sm\n",
    "import matplotlib.pyplot as plt\n",
    "from statsmodels.formula.api import ols"
   ]
  },
  {
   "cell_type": "code",
   "execution_count": 6,
   "id": "cc7d9b2c",
   "metadata": {},
   "outputs": [],
   "source": [
    "plt.rc(\"figure\", figsize=(16, 8))\n",
    "plt.rc(\"font\", size=14)"
   ]
  },
  {
   "cell_type": "code",
   "execution_count": 7,
   "id": "86a10b7a",
   "metadata": {},
   "outputs": [],
   "source": [
    "#данные\n",
    "nsample = 50\n",
    "sig = 0.25\n",
    "x1 = np.linspace(0, 20, nsample)\n",
    "X = np.column_stack((x1, np.sin(x1), (x1 - 5) ** 2))\n",
    "X = sm.add_constant(X)\n",
    "beta = [5.0, 0.5, 0.5, -0.02]\n",
    "y_true = np.dot(X, beta)\n",
    "y = y_true + sig * np.random.normal(size=nsample)"
   ]
  },
  {
   "cell_type": "code",
   "execution_count": 8,
   "id": "a24f682d",
   "metadata": {},
   "outputs": [
    {
     "name": "stdout",
     "output_type": "stream",
     "text": [
      "                            OLS Regression Results                            \n",
      "==============================================================================\n",
      "Dep. Variable:                      y   R-squared:                       0.987\n",
      "Model:                            OLS   Adj. R-squared:                  0.986\n",
      "Method:                 Least Squares   F-statistic:                     1122.\n",
      "Date:                Tue, 05 Jul 2022   Prob (F-statistic):           5.26e-43\n",
      "Time:                        20:37:21   Log-Likelihood:                 5.6239\n",
      "No. Observations:                  50   AIC:                            -3.248\n",
      "Df Residuals:                      46   BIC:                             4.400\n",
      "Df Model:                           3                                         \n",
      "Covariance Type:            nonrobust                                         \n",
      "==============================================================================\n",
      "                 coef    std err          t      P>|t|      [0.025      0.975]\n",
      "------------------------------------------------------------------------------\n",
      "const          4.9827      0.077     64.848      0.000       4.828       5.137\n",
      "x1             0.4968      0.012     41.920      0.000       0.473       0.521\n",
      "x2             0.4620      0.047      9.917      0.000       0.368       0.556\n",
      "x3            -0.0195      0.001    -18.722      0.000      -0.022      -0.017\n",
      "==============================================================================\n",
      "Omnibus:                        3.949   Durbin-Watson:                   2.137\n",
      "Prob(Omnibus):                  0.139   Jarque-Bera (JB):                2.957\n",
      "Skew:                           0.406   Prob(JB):                        0.228\n",
      "Kurtosis:                       3.871   Cond. No.                         221.\n",
      "==============================================================================\n",
      "\n",
      "Notes:\n",
      "[1] Standard Errors assume that the covariance matrix of the errors is correctly specified.\n"
     ]
    }
   ],
   "source": [
    "#Оценка\n",
    "olsmod = sm.OLS(y, X)\n",
    "olsres = olsmod.fit()\n",
    "print(olsres.summary())"
   ]
  },
  {
   "cell_type": "code",
   "execution_count": 9,
   "id": "d9e3905e",
   "metadata": {},
   "outputs": [],
   "source": [
    "#Предсказание в выборке\n",
    "ypred = olsres.predict(X)"
   ]
  },
  {
   "cell_type": "code",
   "execution_count": 10,
   "id": "3fc7daac",
   "metadata": {},
   "outputs": [
    {
     "data": {
      "text/plain": [
       "array([ 4.49576622,  4.95815264,  5.3839226 ,  5.74789962,  6.03399329,\n",
       "        6.23784285,  6.3675337 ,  6.44226892,  6.48921432,  6.53903516,\n",
       "        6.6208579 ,  6.75748487,  6.96164784,  7.23391628,  7.56260376,\n",
       "        7.92568804,  8.29442922,  8.63809164,  8.92899367,  9.14705571,\n",
       "        9.28309923,  9.34035475,  9.3339311 ,  9.28833306,  9.23343533,\n",
       "        9.19957414,  9.21256315,  9.28945233,  9.43572666,  9.64440501,\n",
       "        9.8971871 , 10.16746017, 10.4246714 , 10.63934766, 10.78793783,\n",
       "       10.85668221, 10.84387321, 10.76013584, 10.62668214, 10.47182602,\n",
       "       10.32633142, 10.21835787, 10.16883393, 10.18801871, 10.27381636,\n",
       "       10.41212033, 10.57913111, 10.74526639, 10.88002137, 10.95698058])"
      ]
     },
     "execution_count": 10,
     "metadata": {},
     "output_type": "execute_result"
    }
   ],
   "source": [
    "ypred"
   ]
  },
  {
   "cell_type": "code",
   "execution_count": 11,
   "id": "19ab1408",
   "metadata": {},
   "outputs": [
    {
     "name": "stdout",
     "output_type": "stream",
     "text": [
      "[10.94705727 10.81464875 10.57787138 10.27801007  9.9694103   9.70617243\n",
      "  9.52890606  9.45478738  9.47335383  9.54906573]\n"
     ]
    }
   ],
   "source": [
    "x1n = np.linspace(20.5, 25, 10)\n",
    "Xnew = np.column_stack((x1n, np.sin(x1n), (x1n - 5) ** 2))\n",
    "Xnew = sm.add_constant(Xnew)\n",
    "ynewpred = olsres.predict(Xnew)  # predict out of sample\n",
    "print(ynewpred)"
   ]
  },
  {
   "cell_type": "code",
   "execution_count": 14,
   "id": "3aca8907",
   "metadata": {},
   "outputs": [
    {
     "data": {
      "text/plain": [
       "<matplotlib.legend.Legend at 0x1fbf4d7f1f0>"
      ]
     },
     "execution_count": 14,
     "metadata": {},
     "output_type": "execute_result"
    },
    {
     "data": {
      "image/png": "[encoded data removed]",
      "text/plain": [
       "<Figure size 432x288 with 1 Axes>"
      ]
     },
     "metadata": {
      "needs_background": "light"
     },
     "output_type": "display_data"
    }
   ],
   "source": [
    "fig, ax = plt.subplots()\n",
    "ax.plot(x1, y, \"o\", label=\"Data\")\n",
    "ax.plot(x1, y_true, \"b-\", label=\"True\")\n",
    "ax.plot(np.hstack((x1, x1n)), np.hstack((ypred, ynewpred)), \"r\", label=\"OLS prediction\")\n",
    "ax.legend(loc=\"best\")"
   ]
  },
  {
   "cell_type": "code",
   "execution_count": 16,
   "id": "e495bc98",
   "metadata": {},
   "outputs": [],
   "source": [
    "#предсказание с формалами\n",
    "data = {\"x1\": x1, \"y\": y}\n",
    "\n",
    "res = ols(\"y ~ x1 + np.sin(x1) + I((x1-5)**2)\", data=data).fit()"
   ]
  },
  {
   "cell_type": "code",
   "execution_count": 17,
   "id": "8526b4a1",
   "metadata": {},
   "outputs": [
    {
     "data": {
      "text/plain": [
       "Intercept           4.982745\n",
       "x1                  0.496765\n",
       "np.sin(x1)          0.461961\n",
       "I((x1 - 5) ** 2)   -0.019479\n",
       "dtype: float64"
      ]
     },
     "execution_count": 17,
     "metadata": {},
     "output_type": "execute_result"
    }
   ],
   "source": [
    "res.params"
   ]
  },
  {
   "cell_type": "code",
   "execution_count": 18,
   "id": "6b47ce0b",
   "metadata": {},
   "outputs": [
    {
     "data": {
      "text/plain": [
       "0    10.947057\n",
       "1    10.814649\n",
       "2    10.577871\n",
       "3    10.278010\n",
       "4     9.969410\n",
       "5     9.706172\n",
       "6     9.528906\n",
       "7     9.454787\n",
       "8     9.473354\n",
       "9     9.549066\n",
       "dtype: float64"
      ]
     },
     "execution_count": 18,
     "metadata": {},
     "output_type": "execute_result"
    }
   ],
   "source": [
    "res.predict(exog=dict(x1=x1n))"
   ]
  },
  {
   "cell_type": "code",
   "execution_count": null,
   "id": "e0736d7b",
   "metadata": {},
   "outputs": [],
   "source": []
  }
 ],
 "metadata": {
  "kernelspec": {
   "display_name": "Python 3 (ipykernel)",
   "language": "python",
   "name": "python3"
  },
  "language_info": {
   "codemirror_mode": {
    "name": "ipython",
    "version": 3
   },
   "file_extension": ".py",
   "mimetype": "text/x-python",
   "name": "python",
   "nbconvert_exporter": "python",
   "pygments_lexer": "ipython3",
   "version": "3.10.5"
  }
 },
 "nbformat": 4,
 "nbformat_minor": 5
}
